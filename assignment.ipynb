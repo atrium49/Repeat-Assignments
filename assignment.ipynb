{
 "cells": [
  {
   "cell_type": "code",
   "execution_count": 1,
   "metadata": {},
   "outputs": [],
   "source": [
    "## creating a Class BasketOfProducts to add and remove from the system\n",
    "\n",
    "import uuid  # uuid Generates random ID's for each product\n",
    "import pandas as pd  # install Pandas (pip install pandas) will helps you to convert json to table\n",
    "basket = [] # create empty list to add in to products list\n",
    "class BasketOfProducts:\n",
    "    def __init__(self, name, description, seller, currency, price): # Initialise all the inputs you would like to insert into BasketOfProducts\n",
    "        self.name = name                                                               # name of the product\n",
    "        self.description = description                                                 # product description\n",
    "        self.seller = seller                                                           # who is selling the product\n",
    "        self.currency = currency                                                       # exchange base \n",
    "        self.price = price                                                             # price of the product\n",
    "        self.id = str(uuid.uuid4())\n",
    "\n",
    "\n",
    "    def add(self):\n",
    "        \"\"\"\n",
    "        this methos will add each product into the basket and returns the total items in the basket\n",
    "        \n",
    "        returns A TABLE of this format\n",
    "         _______________________________________________________________________________________________\n",
    "        |   ID    |   NAME      |    DESCRIPTION     |       SELLER         |     CURRENCY  |  PRICE    |\n",
    "        |_________|_____________|____________________|______________________|_______________|___________|\n",
    "        |         |             |                    |                      |               |           |\n",
    "        |         |             |                    |                      |               |           |\n",
    "        |         |             |                    |                      |               |           |\n",
    "        |_________|_____________|____________________|______________________|_______________|___________|\n",
    "        \"\"\"\n",
    "        product = {'ID':self.id,\n",
    "        'NAME' : self.name,\n",
    "        'DESCRIPTION': self.description,\n",
    "        'SELLER': self.seller,\n",
    "        'CURRENCY': self.currency,\n",
    "        'PRICE': self.price}\n",
    "        basket.append(product)\n",
    "        return pd.DataFrame(basket)\n",
    "    \n",
    "\n",
    "    def remove(self, instance):\n",
    "        \"\"\"\n",
    "        this methos will remove each single product in the basket and returns the total items remained the basle\n",
    "        returns A TABLE of this format\n",
    "         _______________________________________________________________________________________________\n",
    "        |   ID    |   NAME      |    DESCRIPTION     |       SELLER         |     CURRENCY  |  PRICE    |\n",
    "        |_________|_____________|____________________|______________________|_______________|___________|\n",
    "        |         |             |                    |                      |               |           |\n",
    "        |         |             |                    |                      |               |           |\n",
    "        |         |             |                    |                      |               |           |\n",
    "        |_________|_____________|____________________|______________________|_______________|___________|\n",
    "        \"\"\"\n",
    "        proucts_after_removal = list(filter(lambda i: i['ID'] != instance, basket))\n",
    "        return pd.DataFrame(proucts_after_removal)"
   ]
  },
  {
   "cell_type": "markdown",
   "metadata": {},
   "source": [
    "## adding a product"
   ]
  },
  {
   "cell_type": "code",
   "execution_count": 2,
   "metadata": {},
   "outputs": [
    {
     "data": {
      "text/html": [
       "<div>\n",
       "<style scoped>\n",
       "    .dataframe tbody tr th:only-of-type {\n",
       "        vertical-align: middle;\n",
       "    }\n",
       "\n",
       "    .dataframe tbody tr th {\n",
       "        vertical-align: top;\n",
       "    }\n",
       "\n",
       "    .dataframe thead th {\n",
       "        text-align: right;\n",
       "    }\n",
       "</style>\n",
       "<table border=\"1\" class=\"dataframe\">\n",
       "  <thead>\n",
       "    <tr style=\"text-align: right;\">\n",
       "      <th></th>\n",
       "      <th>ID</th>\n",
       "      <th>NAME</th>\n",
       "      <th>DESCRIPTION</th>\n",
       "      <th>SELLER</th>\n",
       "      <th>CURRENCY</th>\n",
       "      <th>PRICE</th>\n",
       "    </tr>\n",
       "  </thead>\n",
       "  <tbody>\n",
       "    <tr>\n",
       "      <th>0</th>\n",
       "      <td>83da6ccb-b3d0-4220-be63-5e94210fdc59</td>\n",
       "      <td>Mobile</td>\n",
       "      <td>OnePlus*</td>\n",
       "      <td>Amazon India pvt Ltd</td>\n",
       "      <td>INR</td>\n",
       "      <td>30000</td>\n",
       "    </tr>\n",
       "  </tbody>\n",
       "</table>\n",
       "</div>"
      ],
      "text/plain": [
       "                                     ID    NAME DESCRIPTION  \\\n",
       "0  83da6ccb-b3d0-4220-be63-5e94210fdc59  Mobile    OnePlus*   \n",
       "\n",
       "                 SELLER CURRENCY  PRICE  \n",
       "0  Amazon India pvt Ltd      INR  30000  "
      ]
     },
     "execution_count": 2,
     "metadata": {},
     "output_type": "execute_result"
    }
   ],
   "source": [
    "basket_details_to_add = BasketOfProducts(\"Mobile\",\"OnePlus*\",\"Amazon India pvt Ltd\",\"INR\", 30000)\n",
    "basket_details_to_add.add()"
   ]
  },
  {
   "cell_type": "markdown",
   "metadata": {},
   "source": [
    "## adding a product"
   ]
  },
  {
   "cell_type": "code",
   "execution_count": 3,
   "metadata": {},
   "outputs": [
    {
     "data": {
      "text/html": [
       "<div>\n",
       "<style scoped>\n",
       "    .dataframe tbody tr th:only-of-type {\n",
       "        vertical-align: middle;\n",
       "    }\n",
       "\n",
       "    .dataframe tbody tr th {\n",
       "        vertical-align: top;\n",
       "    }\n",
       "\n",
       "    .dataframe thead th {\n",
       "        text-align: right;\n",
       "    }\n",
       "</style>\n",
       "<table border=\"1\" class=\"dataframe\">\n",
       "  <thead>\n",
       "    <tr style=\"text-align: right;\">\n",
       "      <th></th>\n",
       "      <th>ID</th>\n",
       "      <th>NAME</th>\n",
       "      <th>DESCRIPTION</th>\n",
       "      <th>SELLER</th>\n",
       "      <th>CURRENCY</th>\n",
       "      <th>PRICE</th>\n",
       "    </tr>\n",
       "  </thead>\n",
       "  <tbody>\n",
       "    <tr>\n",
       "      <th>0</th>\n",
       "      <td>83da6ccb-b3d0-4220-be63-5e94210fdc59</td>\n",
       "      <td>Mobile</td>\n",
       "      <td>OnePlus*</td>\n",
       "      <td>Amazon India pvt Ltd</td>\n",
       "      <td>INR</td>\n",
       "      <td>30000</td>\n",
       "    </tr>\n",
       "    <tr>\n",
       "      <th>1</th>\n",
       "      <td>10e35dce-ae20-49f9-a1ed-15611ef07bb7</td>\n",
       "      <td>test</td>\n",
       "      <td>OnePlus*</td>\n",
       "      <td>Amazon India pvt Ltd</td>\n",
       "      <td>INR</td>\n",
       "      <td>40000</td>\n",
       "    </tr>\n",
       "  </tbody>\n",
       "</table>\n",
       "</div>"
      ],
      "text/plain": [
       "                                     ID    NAME DESCRIPTION  \\\n",
       "0  83da6ccb-b3d0-4220-be63-5e94210fdc59  Mobile    OnePlus*   \n",
       "1  10e35dce-ae20-49f9-a1ed-15611ef07bb7    test    OnePlus*   \n",
       "\n",
       "                 SELLER CURRENCY  PRICE  \n",
       "0  Amazon India pvt Ltd      INR  30000  \n",
       "1  Amazon India pvt Ltd      INR  40000  "
      ]
     },
     "execution_count": 3,
     "metadata": {},
     "output_type": "execute_result"
    }
   ],
   "source": [
    "basket_details_to_add = BasketOfProducts(\"test\",\"OnePlus*\",\"Amazon India pvt Ltd\",\"INR\", 40000)\n",
    "basket_details_to_add.add()"
   ]
  },
  {
   "cell_type": "markdown",
   "metadata": {},
   "source": [
    "## remove a product"
   ]
  },
  {
   "cell_type": "code",
   "execution_count": 5,
   "metadata": {},
   "outputs": [
    {
     "data": {
      "text/html": [
       "<div>\n",
       "<style scoped>\n",
       "    .dataframe tbody tr th:only-of-type {\n",
       "        vertical-align: middle;\n",
       "    }\n",
       "\n",
       "    .dataframe tbody tr th {\n",
       "        vertical-align: top;\n",
       "    }\n",
       "\n",
       "    .dataframe thead th {\n",
       "        text-align: right;\n",
       "    }\n",
       "</style>\n",
       "<table border=\"1\" class=\"dataframe\">\n",
       "  <thead>\n",
       "    <tr style=\"text-align: right;\">\n",
       "      <th></th>\n",
       "      <th>ID</th>\n",
       "      <th>NAME</th>\n",
       "      <th>DESCRIPTION</th>\n",
       "      <th>SELLER</th>\n",
       "      <th>CURRENCY</th>\n",
       "      <th>PRICE</th>\n",
       "    </tr>\n",
       "  </thead>\n",
       "  <tbody>\n",
       "    <tr>\n",
       "      <th>0</th>\n",
       "      <td>83da6ccb-b3d0-4220-be63-5e94210fdc59</td>\n",
       "      <td>Mobile</td>\n",
       "      <td>OnePlus*</td>\n",
       "      <td>Amazon India pvt Ltd</td>\n",
       "      <td>INR</td>\n",
       "      <td>30000</td>\n",
       "    </tr>\n",
       "  </tbody>\n",
       "</table>\n",
       "</div>"
      ],
      "text/plain": [
       "                                     ID    NAME DESCRIPTION  \\\n",
       "0  83da6ccb-b3d0-4220-be63-5e94210fdc59  Mobile    OnePlus*   \n",
       "\n",
       "                 SELLER CURRENCY  PRICE  \n",
       "0  Amazon India pvt Ltd      INR  30000  "
      ]
     },
     "execution_count": 5,
     "metadata": {},
     "output_type": "execute_result"
    }
   ],
   "source": [
    "basket_details_to_add.remove('10e35dce-ae20-49f9-a1ed-15611ef07bb7')"
   ]
  },
  {
   "cell_type": "code",
   "execution_count": null,
   "metadata": {},
   "outputs": [],
   "source": []
  },
  {
   "cell_type": "code",
   "execution_count": null,
   "metadata": {},
   "outputs": [],
   "source": []
  },
  {
   "cell_type": "code",
   "execution_count": null,
   "metadata": {},
   "outputs": [],
   "source": []
  }
 ],
 "metadata": {
  "kernelspec": {
   "display_name": "Python 3",
   "language": "python",
   "name": "python3"
  },
  "language_info": {
   "codemirror_mode": {
    "name": "ipython",
    "version": 3
   },
   "file_extension": ".py",
   "mimetype": "text/x-python",
   "name": "python",
   "nbconvert_exporter": "python",
   "pygments_lexer": "ipython3",
   "version": "3.7.3"
  }
 },
 "nbformat": 4,
 "nbformat_minor": 4
}
