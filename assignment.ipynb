{
 "cells": [
  {
   "cell_type": "code",
   "execution_count": 6,
   "metadata": {},
   "outputs": [],
   "source": [
    "## creating a Class BasketOfProducts to add and remove from the system\n",
    "\n",
    "import uuid  # uuid Generates random ID's for each product\n",
    "import pandas as pd  # install Pandas (pip install pandas) will helps you to convert json to table\n",
    "basket = [] # create empty list to add in to products list\n",
    "class BasketOfProducts:\n",
    "    def __init__(self, name, description, seller, currency, price): # Initialise all the inputs to insert\n",
    "        self.name = name                 # name of the product\n",
    "        self.description = description   # product description\n",
    "        self.seller = seller             # who is selling the product\n",
    "        self.currency = currency         # exchange base \n",
    "        self.price = price               # price of the product\n",
    "        self.id = str(uuid.uuid4())\n",
    "\n",
    "\n",
    "    def add(self):\n",
    "        \"\"\"\n",
    "        this methos will add each product into the basket and returns the total items in the basket\n",
    "        \n",
    "        returns A TABLE of this format\n",
    "         _______________________________________________________________________________________________\n",
    "        |   ID    |   NAME      |    DESCRIPTION     |       SELLER         |     CURRENCY  |  PRICE    |\n",
    "        |_________|_____________|____________________|______________________|_______________|___________|\n",
    "        |         |             |                    |                      |               |           |\n",
    "        |         |             |                    |                      |               |           |\n",
    "        |         |             |                    |                      |               |           |\n",
    "        |_________|_____________|____________________|______________________|_______________|___________|\n",
    "        \"\"\"\n",
    "        product = {'ID':self.id,\n",
    "        'NAME' : self.name,\n",
    "        'DESCRIPTION': self.description,\n",
    "        'SELLER': self.seller,\n",
    "        'CURRENCY': self.currency,\n",
    "        'PRICE': self.price}\n",
    "        basket.append(product)\n",
    "        return pd.DataFrame(basket)\n",
    "    \n",
    "\n",
    "    def remove(self, instance):\n",
    "        \"\"\"\n",
    "        this methos will remove each single product in the basket and returns the total items remained the basle\n",
    "        returns A TABLE of this format\n",
    "         _______________________________________________________________________________________________\n",
    "        |   ID    |   NAME      |    DESCRIPTION     |       SELLER         |     CURRENCY  |  PRICE    |\n",
    "        |_________|_____________|____________________|______________________|_______________|___________|\n",
    "        |         |             |                    |                      |               |           |\n",
    "        |         |             |                    |                      |               |           |\n",
    "        |         |             |                    |                      |               |           |\n",
    "        |_________|_____________|____________________|______________________|_______________|___________|\n",
    "        \"\"\"\n",
    "        proucts_after_removal = list(filter(lambda i: i['ID'] != instance, basket))\n",
    "        return pd.DataFrame(proucts_after_removal)"
   ]
  },
  {
   "cell_type": "markdown",
   "metadata": {},
   "source": [
    "## adding a product"
   ]
  },
  {
   "cell_type": "code",
   "execution_count": 8,
   "metadata": {},
   "outputs": [
    {
     "data": {
      "text/html": [
       "<div>\n",
       "<style scoped>\n",
       "    .dataframe tbody tr th:only-of-type {\n",
       "        vertical-align: middle;\n",
       "    }\n",
       "\n",
       "    .dataframe tbody tr th {\n",
       "        vertical-align: top;\n",
       "    }\n",
       "\n",
       "    .dataframe thead th {\n",
       "        text-align: right;\n",
       "    }\n",
       "</style>\n",
       "<table border=\"1\" class=\"dataframe\">\n",
       "  <thead>\n",
       "    <tr style=\"text-align: right;\">\n",
       "      <th></th>\n",
       "      <th>ID</th>\n",
       "      <th>NAME</th>\n",
       "      <th>DESCRIPTION</th>\n",
       "      <th>SELLER</th>\n",
       "      <th>CURRENCY</th>\n",
       "      <th>PRICE</th>\n",
       "    </tr>\n",
       "  </thead>\n",
       "  <tbody>\n",
       "    <tr>\n",
       "      <th>0</th>\n",
       "      <td>af84ed79-36ed-4dc7-8e47-f8c434cdbfde</td>\n",
       "      <td>Mobile</td>\n",
       "      <td>OnePlus*</td>\n",
       "      <td>Amazon Europe</td>\n",
       "      <td>EUR</td>\n",
       "      <td>890</td>\n",
       "    </tr>\n",
       "  </tbody>\n",
       "</table>\n",
       "</div>"
      ],
      "text/plain": [
       "                                     ID    NAME DESCRIPTION         SELLER  \\\n",
       "0  af84ed79-36ed-4dc7-8e47-f8c434cdbfde  Mobile    OnePlus*  Amazon Europe   \n",
       "\n",
       "  CURRENCY  PRICE  \n",
       "0      EUR    890  "
      ]
     },
     "execution_count": 8,
     "metadata": {},
     "output_type": "execute_result"
    }
   ],
   "source": [
    "basket_details_to_add = BasketOfProducts(\"Mobile\",\"OnePlus*\",\"Amazon Europe\",\"EUR\", 890)\n",
    "basket_details_to_add.add()"
   ]
  },
  {
   "cell_type": "markdown",
   "metadata": {},
   "source": [
    "## adding a product"
   ]
  },
  {
   "cell_type": "code",
   "execution_count": 9,
   "metadata": {},
   "outputs": [
    {
     "data": {
      "text/html": [
       "<div>\n",
       "<style scoped>\n",
       "    .dataframe tbody tr th:only-of-type {\n",
       "        vertical-align: middle;\n",
       "    }\n",
       "\n",
       "    .dataframe tbody tr th {\n",
       "        vertical-align: top;\n",
       "    }\n",
       "\n",
       "    .dataframe thead th {\n",
       "        text-align: right;\n",
       "    }\n",
       "</style>\n",
       "<table border=\"1\" class=\"dataframe\">\n",
       "  <thead>\n",
       "    <tr style=\"text-align: right;\">\n",
       "      <th></th>\n",
       "      <th>ID</th>\n",
       "      <th>NAME</th>\n",
       "      <th>DESCRIPTION</th>\n",
       "      <th>SELLER</th>\n",
       "      <th>CURRENCY</th>\n",
       "      <th>PRICE</th>\n",
       "    </tr>\n",
       "  </thead>\n",
       "  <tbody>\n",
       "    <tr>\n",
       "      <th>0</th>\n",
       "      <td>af84ed79-36ed-4dc7-8e47-f8c434cdbfde</td>\n",
       "      <td>Mobile</td>\n",
       "      <td>OnePlus*</td>\n",
       "      <td>Amazon Europe</td>\n",
       "      <td>EUR</td>\n",
       "      <td>890</td>\n",
       "    </tr>\n",
       "    <tr>\n",
       "      <th>1</th>\n",
       "      <td>00670d39-2fc8-4efe-8189-a6e9adcfc762</td>\n",
       "      <td>Mobile</td>\n",
       "      <td>Iphone 5s*</td>\n",
       "      <td>Ebay</td>\n",
       "      <td>EUR</td>\n",
       "      <td>490</td>\n",
       "    </tr>\n",
       "  </tbody>\n",
       "</table>\n",
       "</div>"
      ],
      "text/plain": [
       "                                     ID    NAME DESCRIPTION         SELLER  \\\n",
       "0  af84ed79-36ed-4dc7-8e47-f8c434cdbfde  Mobile    OnePlus*  Amazon Europe   \n",
       "1  00670d39-2fc8-4efe-8189-a6e9adcfc762  Mobile  Iphone 5s*           Ebay   \n",
       "\n",
       "  CURRENCY  PRICE  \n",
       "0      EUR    890  \n",
       "1      EUR    490  "
      ]
     },
     "execution_count": 9,
     "metadata": {},
     "output_type": "execute_result"
    }
   ],
   "source": [
    "basket_details_to_add = BasketOfProducts(\"Mobile\",\"Iphone 5s*\",\"Ebay\",\"EUR\", 490)\n",
    "basket_details_to_add.add()"
   ]
  },
  {
   "cell_type": "markdown",
   "metadata": {},
   "source": [
    "## remove a product"
   ]
  },
  {
   "cell_type": "code",
   "execution_count": 10,
   "metadata": {},
   "outputs": [
    {
     "data": {
      "text/html": [
       "<div>\n",
       "<style scoped>\n",
       "    .dataframe tbody tr th:only-of-type {\n",
       "        vertical-align: middle;\n",
       "    }\n",
       "\n",
       "    .dataframe tbody tr th {\n",
       "        vertical-align: top;\n",
       "    }\n",
       "\n",
       "    .dataframe thead th {\n",
       "        text-align: right;\n",
       "    }\n",
       "</style>\n",
       "<table border=\"1\" class=\"dataframe\">\n",
       "  <thead>\n",
       "    <tr style=\"text-align: right;\">\n",
       "      <th></th>\n",
       "      <th>ID</th>\n",
       "      <th>NAME</th>\n",
       "      <th>DESCRIPTION</th>\n",
       "      <th>SELLER</th>\n",
       "      <th>CURRENCY</th>\n",
       "      <th>PRICE</th>\n",
       "    </tr>\n",
       "  </thead>\n",
       "  <tbody>\n",
       "    <tr>\n",
       "      <th>0</th>\n",
       "      <td>af84ed79-36ed-4dc7-8e47-f8c434cdbfde</td>\n",
       "      <td>Mobile</td>\n",
       "      <td>OnePlus*</td>\n",
       "      <td>Amazon Europe</td>\n",
       "      <td>EUR</td>\n",
       "      <td>890</td>\n",
       "    </tr>\n",
       "  </tbody>\n",
       "</table>\n",
       "</div>"
      ],
      "text/plain": [
       "                                     ID    NAME DESCRIPTION         SELLER  \\\n",
       "0  af84ed79-36ed-4dc7-8e47-f8c434cdbfde  Mobile    OnePlus*  Amazon Europe   \n",
       "\n",
       "  CURRENCY  PRICE  \n",
       "0      EUR    890  "
      ]
     },
     "execution_count": 10,
     "metadata": {},
     "output_type": "execute_result"
    }
   ],
   "source": [
    "basket_details_to_add.remove('00670d39-2fc8-4efe-8189-a6e9adcfc762')"
   ]
  },
  {
   "cell_type": "code",
   "execution_count": null,
   "metadata": {},
   "outputs": [],
   "source": []
  },
  {
   "cell_type": "code",
   "execution_count": null,
   "metadata": {},
   "outputs": [],
   "source": []
  },
  {
   "cell_type": "code",
   "execution_count": null,
   "metadata": {},
   "outputs": [],
   "source": []
  }
 ],
 "metadata": {
  "kernelspec": {
   "display_name": "Python 3",
   "language": "python",
   "name": "python3"
  },
  "language_info": {
   "codemirror_mode": {
    "name": "ipython",
    "version": 3
   },
   "file_extension": ".py",
   "mimetype": "text/x-python",
   "name": "python",
   "nbconvert_exporter": "python",
   "pygments_lexer": "ipython3",
   "version": "3.7.3"
  }
 },
 "nbformat": 4,
 "nbformat_minor": 4
}
